{
 "cells": [
  {
   "cell_type": "markdown",
   "metadata": {},
   "source": [
    "# 2DPGA: Project and reject\n",
    "\n",
    "This example shows how to perform projection and rejection, using 2DPGA.\n",
    "\n",
    "Based on https://enkimute.github.io/ganja.js/examples/coffeeshop.html#pga2d_project_and_reject."
   ]
  },
  {
   "cell_type": "markdown",
   "metadata": {},
   "source": [
    "First we create 2DPGA, and add its basis blades to the local namespace."
   ]
  },
  {
   "cell_type": "code",
   "execution_count": 1,
   "metadata": {},
   "outputs": [],
   "source": [
    "from kingdon import Algebra\n",
    "\n",
    "alg = Algebra(2, 0, 1)\n",
    "locals().update(alg.blades)"
   ]
  },
  {
   "cell_type": "markdown",
   "metadata": {},
   "source": [
    "Next, make formulas to construct points and lines from coefficients, and to project and reject any elements of geometry."
   ]
  },
  {
   "cell_type": "code",
   "execution_count": 2,
   "metadata": {
    "scrolled": false
   },
   "outputs": [],
   "source": [
    "# Construct points and lines from coefficients\n",
    "point = lambda x, y: (e0 + x*e1 + y*e2).dual()\n",
    "line = lambda a, b, c: a*e1 + b*e2 + c*e0\n",
    "\n",
    "# The formulas for projection and rejection are the same for all elements of geometry in PGA\n",
    "project = lambda a, b: (a | b) / b\n",
    "reject = lambda a, b: (a | b)"
   ]
  },
  {
   "cell_type": "markdown",
   "metadata": {},
   "source": [
    "Construct the points $A$, $B$, and $C$, and make the line $AC$ by joining $A$ and $C$."
   ]
  },
  {
   "cell_type": "code",
   "execution_count": 3,
   "metadata": {},
   "outputs": [],
   "source": [
    "A = point(1, 1)\n",
    "B = point(-1, 1)\n",
    "C = point(-1, -1)\n",
    "AC = A & C"
   ]
  },
  {
   "cell_type": "code",
   "execution_count": 4,
   "metadata": {
    "scrolled": true
   },
   "outputs": [
    {
     "data": {
      "application/javascript": [
       "\n",
       "        fetch(\"https://enki.ws/ganja.js/ganja.js\")\n",
       "        .then(x=>x.text())\n",
       "        .then(ganja=>{\n",
       "\n",
       "          var f = new Function(\"module\",ganja);\n",
       "          var module = {exports:{}};\n",
       "          f(module);\n",
       "          var Algebra = module.exports;\n",
       "\n",
       "          var canvas = Algebra({metric:[0, 1, 1], Cayley:[[\"1\", \"e0\", \"e1\", \"e2\", \"e01\", \"e02\", \"e12\", \"e012\"], [\"e0\", \"0\", \"e01\", \"e02\", \"0\", \"0\", \"e012\", \"0\"], [\"e1\", \"-e01\", \"1\", \"e12\", \"-e0\", \"-e012\", \"e2\", \"-e02\"], [\"e2\", \"-e02\", \"-e12\", \"1\", \"e012\", \"-e0\", \"-e1\", \"e01\"], [\"e01\", \"0\", \"e0\", \"e012\", \"0\", \"0\", \"e02\", \"0\"], [\"e02\", \"0\", \"-e012\", \"e0\", \"0\", \"0\", \"-e01\", \"0\"], [\"e12\", \"e012\", \"-e2\", \"e1\", \"-e02\", \"e01\", \"-1\", \"-e0\"], [\"e012\", \"0\", \"-e02\", \"e01\", \"0\", \"0\", \"-e0\", \"0\"]]},()=>{\n",
       "              var toElement = (x)=>{\n",
       "                if (Array.isArray(x)) {\n",
       "                  if (x.length==8 && !Array.isArray(x[0])) {\n",
       "                    return new Element(x);\n",
       "                  } else {\n",
       "                    return x.map(toElement);\n",
       "                  }\n",
       "                };\n",
       "                return x;\n",
       "              };\n",
       "              var data = [13696993, [[0, 0, 0, 0, 1, -1, 1, 0], [0, 0, 0, 0, 1, 1, 1, 0], [0, 0, 0, 0, -1, 1, 1, 0]], 8921736, [0.0, 0, 0, 0, 0.0, 0.0, 1.0, 0], \"project B onto AC\", 8921736, [0, 4.0, 2.0, -2.0, 0, 0, 0, 0.0], \"project AC onto B\", 34884, [0, 0, 2, 2, 0, 0, 0, 0], \"reject AC from B\", 43656, [0, 0, 2, -2, 0, 0, 0, 0], \"AC\", 2245768, [0, 0, 0, 0, 1, -1, 1, 0], \"A\", [0, 0, 0, 0, 1, 1, 1, 0], \"B\", [0, 0, 0, 0, -1, 1, 1, 0], \"C\"].map(toElement);\n",
       "              return this.graph(data, {'lineWidth': 3, 'grid': 1, 'labels': 1})\n",
       "          })\n",
       "\n",
       "          element.append(canvas)\n",
       "\n",
       "        })\n",
       "        "
      ],
      "text/plain": [
       "<IPython.core.display.Javascript object>"
      ]
     },
     "metadata": {},
     "output_type": "display_data"
    }
   ],
   "source": [
    "alg.graph(\n",
    "    0xD0FFE1, [A,B,C],\n",
    "    0x882288, project(B, AC), \"project B onto AC\",\n",
    "    0x882288, project(AC, B), \"project AC onto B\",\n",
    "    0x008844, reject(AC, B),  \"reject AC from B\",\n",
    "    0x00AA88, AC, \"AC\",\n",
    "    0x224488, A, \"A\", B, \"B\", C, \"C\",\n",
    "    lineWidth=3, grid=1, labels=1\n",
    ")"
   ]
  },
  {
   "cell_type": "code",
   "execution_count": null,
   "metadata": {
    "scrolled": false
   },
   "outputs": [],
   "source": []
  }
 ],
 "metadata": {
  "kernelspec": {
   "display_name": "Python 3 (ipykernel)",
   "language": "python",
   "name": "python3"
  },
  "language_info": {
   "codemirror_mode": {
    "name": "ipython",
    "version": 3
   },
   "file_extension": ".py",
   "mimetype": "text/x-python",
   "name": "python",
   "nbconvert_exporter": "python",
   "pygments_lexer": "ipython3",
   "version": "3.8.13"
  }
 },
 "nbformat": 4,
 "nbformat_minor": 4
}
