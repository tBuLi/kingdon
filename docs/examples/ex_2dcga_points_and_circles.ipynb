{
 "cells": [
  {
   "cell_type": "markdown",
   "id": "ffc2c97d",
   "metadata": {},
   "source": [
    "# 2DCGA: Points and circles\n",
    "\n",
    "Based on https://enkimute.github.io/ganja.js/examples/coffeeshop.html#cga2d_points_and_circles."
   ]
  },
  {
   "cell_type": "code",
   "execution_count": 1,
   "id": "dff83c8e",
   "metadata": {},
   "outputs": [],
   "source": [
    "from kingdon import Algebra\n",
    "import numpy as np\n",
    "\n",
    "alg = Algebra(3, 1)\n",
    "locals().update(alg.blades)"
   ]
  },
  {
   "cell_type": "code",
   "execution_count": 2,
   "id": "b6f57282",
   "metadata": {},
   "outputs": [],
   "source": [
    "ni = e4+e3\n",
    "no = (e4 - e3) / 2"
   ]
  },
  {
   "cell_type": "code",
   "execution_count": 3,
   "id": "a070d8ae",
   "metadata": {},
   "outputs": [],
   "source": [
    "def point(x,y):\n",
    "    return no + x*e1 + y*e2 + 0.5*(x*x+y*y)*ni\n",
    "\n",
    "def line(a,b,c):\n",
    "    return (a*e1 + b*e2 + c*ni).dual()\n",
    "\n",
    "def circle(x,y,r):\n",
    "    return (point(x,y) - r**2/2*ni).dual()"
   ]
  },
  {
   "cell_type": "code",
   "execution_count": 4,
   "id": "ab03dd66",
   "metadata": {},
   "outputs": [],
   "source": []
  },
  {
   "cell_type": "code",
   "execution_count": 5,
   "id": "4fa44cfc",
   "metadata": {},
   "outputs": [],
   "source": [
    "p1 = point(-0.5, -0.5)\n",
    "p2 = point(1, -0.5)\n",
    "p3 = point(0, 1.5)"
   ]
  },
  {
   "cell_type": "code",
   "execution_count": 6,
   "id": "acfd102d",
   "metadata": {},
   "outputs": [],
   "source": [
    "C = p1 ^ p2 ^ p3\n",
    "D = circle(1, -1, 0.9)"
   ]
  },
  {
   "cell_type": "code",
   "execution_count": null,
   "id": "0670dd41",
   "metadata": {},
   "outputs": [],
   "source": []
  },
  {
   "cell_type": "code",
   "execution_count": 7,
   "id": "ad4fe37f",
   "metadata": {},
   "outputs": [],
   "source": [
    "X = line(0,1,0)\n",
    "Y = p2 ^ p3 ^ ni"
   ]
  },
  {
   "cell_type": "code",
   "execution_count": 8,
   "id": "081f7a1b",
   "metadata": {},
   "outputs": [],
   "source": [
    "pp1 = X & C\n",
    "pp2 = C & D\n",
    "pp3 = Y & D\n",
    "p4 = no | (X & Y)"
   ]
  },
  {
   "cell_type": "code",
   "execution_count": 9,
   "id": "b421ee1f",
   "metadata": {},
   "outputs": [
    {
     "data": {
      "application/javascript": [
       "\n",
       "        fetch(\"https://enki.ws/ganja.js/ganja.js\")\n",
       "        .then(x=>x.text())\n",
       "        .then(ganja=>{\n",
       "\n",
       "          var f = new Function(\"module\",ganja);\n",
       "          var module = {exports:{}};\n",
       "          f(module);\n",
       "          var Algebra = module.exports;\n",
       "\n",
       "          var canvas = Algebra({metric:[1, 1, 1, -1], Cayley:[[\"1\", \"e1\", \"e2\", \"e3\", \"e4\", \"e12\", \"e13\", \"e14\", \"e23\", \"e24\", \"e34\", \"e123\", \"e124\", \"e134\", \"e234\", \"e1234\"], [\"e1\", \"1\", \"e12\", \"e13\", \"e14\", \"e2\", \"e3\", \"e4\", \"e123\", \"e124\", \"e134\", \"e23\", \"e24\", \"e34\", \"e1234\", \"e234\"], [\"e2\", \"-e12\", \"1\", \"e23\", \"e24\", \"-e1\", \"-e123\", \"-e124\", \"e3\", \"e4\", \"e234\", \"-e13\", \"-e14\", \"-e1234\", \"e34\", \"-e134\"], [\"e3\", \"-e13\", \"-e23\", \"1\", \"e34\", \"e123\", \"-e1\", \"-e134\", \"-e2\", \"-e234\", \"e4\", \"e12\", \"e1234\", \"-e14\", \"-e24\", \"e124\"], [\"e4\", \"-e14\", \"-e24\", \"-e34\", \"-1\", \"e124\", \"e134\", \"e1\", \"e234\", \"e2\", \"e3\", \"-e1234\", \"-e12\", \"-e13\", \"-e23\", \"e123\"], [\"e12\", \"-e2\", \"e1\", \"e123\", \"e124\", \"-1\", \"-e23\", \"-e24\", \"e13\", \"e14\", \"e1234\", \"-e3\", \"-e4\", \"-e234\", \"e134\", \"-e34\"], [\"e13\", \"-e3\", \"-e123\", \"e1\", \"e134\", \"e23\", \"-1\", \"-e34\", \"-e12\", \"-e1234\", \"e14\", \"e2\", \"e234\", \"-e4\", \"-e124\", \"e24\"], [\"e14\", \"-e4\", \"-e124\", \"-e134\", \"-e1\", \"e24\", \"e34\", \"1\", \"e1234\", \"e12\", \"e13\", \"-e234\", \"-e2\", \"-e3\", \"-e123\", \"e23\"], [\"e23\", \"e123\", \"-e3\", \"e2\", \"e234\", \"-e13\", \"e12\", \"e1234\", \"-1\", \"-e34\", \"e24\", \"-e1\", \"-e134\", \"e124\", \"-e4\", \"-e14\"], [\"e24\", \"e124\", \"-e4\", \"-e234\", \"-e2\", \"-e14\", \"-e1234\", \"-e12\", \"e34\", \"1\", \"e23\", \"e134\", \"e1\", \"e123\", \"-e3\", \"-e13\"], [\"e34\", \"e134\", \"e234\", \"-e4\", \"-e3\", \"e1234\", \"-e14\", \"-e13\", \"-e24\", \"-e23\", \"1\", \"-e124\", \"-e123\", \"e1\", \"e2\", \"e12\"], [\"e123\", \"e23\", \"-e13\", \"e12\", \"e1234\", \"-e3\", \"e2\", \"e234\", \"-e1\", \"-e134\", \"e124\", \"-1\", \"-e34\", \"e24\", \"-e14\", \"-e4\"], [\"e124\", \"e24\", \"-e14\", \"-e1234\", \"-e12\", \"-e4\", \"-e234\", \"-e2\", \"e134\", \"e1\", \"e123\", \"e34\", \"1\", \"e23\", \"-e13\", \"-e3\"], [\"e134\", \"e34\", \"e1234\", \"-e14\", \"-e13\", \"e234\", \"-e4\", \"-e3\", \"-e124\", \"-e123\", \"e1\", \"-e24\", \"-e23\", \"1\", \"e12\", \"e2\"], [\"e234\", \"-e1234\", \"e34\", \"-e24\", \"-e23\", \"-e134\", \"e124\", \"e123\", \"-e4\", \"-e3\", \"e2\", \"e14\", \"e13\", \"-e12\", \"1\", \"-e1\"], [\"e1234\", \"-e234\", \"e134\", \"-e124\", \"-e123\", \"-e34\", \"e24\", \"e23\", \"-e14\", \"-e13\", \"e12\", \"e4\", \"e3\", \"-e2\", \"e1\", \"-1\"]]},()=>{\n",
       "              var toElement = (x)=>{\n",
       "                if (Array.isArray(x)) {\n",
       "                  if (x.length==16 && !Array.isArray(x[0])) {\n",
       "                    return new Element(x);\n",
       "                  } else {\n",
       "                    return x.map(toElement);\n",
       "                  }\n",
       "                };\n",
       "                return x;\n",
       "              };\n",
       "              var data = [\"2D CGA - drag p1,p2,p3\", \"\", 16746632, [0, 0, 0, 0, 0, 0, 0, 0, 0, 0, 0, 0.1875, 3.1875, 1.125, -0.75, 0], \"C\", [0, 0, 0, 0, 0, 0, 0, 0, 0, 0, 0, -1.095, -0.09499999999999997, -1.0, -1.0, 0], \"D\", 4500036, [0, 0, 0, 0, 0, 0, 0, 0, 0, 0, 0, -0.0, -0.0, 1.0, -0.0, 0], \"X\", [0, 0, 0, 0, 0, 0, 0, 0, 0, 0, 0, 1.5, 1.5, -1.0, 2.0, 0], \"Y\", [0, -1.5, 0.0, 1.0, -1.0, 0, 0, 0, 0, 0, 0, 0, 0, 0, 0, 0], 4474111, [0, 0, 0, 0, 0, 0.0, -0.1875, -3.1875, 0.0, 0.0, -0.75, 0, 0, 0, 0, 0], \"pp1\", [0, 0, 0, 0, 0, 3.4725, 1.044375, -3.080625, -1.00875, -3.25875, -1.875, 0, 0, 0, 0, 0], \"pp2\", [0, 0, 0, 0, 0, 1.5, -2.5949999999999998, -1.595, 0.69, -1.31, 3.0, 0, 0, 0, 0, 0], \"pp3\", 6710886, [0, -0.5, -0.5, -0.25, 0.75, 0, 0, 0, 0, 0, 0, 0, 0, 0, 0, 0], \"p1\", [0, 1, -0.5, 0.125, 1.125, 0, 0, 0, 0, 0, 0, 0, 0, 0, 0, 0], \"p2\", [0, 0, 1.5, 0.625, 1.625, 0, 0, 0, 0, 0, 0, 0, 0, 0, 0, 0], \"p3\"].map(toElement);\n",
       "              return this.graph(data, {'conformal': 1, 'grid': 1})\n",
       "          })\n",
       "\n",
       "          element.append(canvas)\n",
       "\n",
       "        })\n",
       "        "
      ],
      "text/plain": [
       "<IPython.core.display.Javascript object>"
      ]
     },
     "metadata": {},
     "output_type": "display_data"
    }
   ],
   "source": [
    "alg.graph(\n",
    "    \"2D CGA - drag p1,p2,p3\",\"\",                  # title\n",
    "    0xFF8888, C, \"C\", D, \"D\",                     # circles\n",
    "    0x44AA44, X, \"X\", Y, \"Y\", p4,                 # lines\n",
    "    0x4444FF, pp1, \"pp1\", pp2, \"pp2\", pp3, \"pp3\", # point pairs\n",
    "    0x666666, p1, \"p1\", p2, \"p2\", p3, \"p3\",       # points\n",
    "    conformal=1,                                  # conformal flag!  \n",
    "    grid=1)                 "
   ]
  },
  {
   "cell_type": "code",
   "execution_count": null,
   "id": "c0b7ea5f",
   "metadata": {},
   "outputs": [],
   "source": []
  }
 ],
 "metadata": {
  "kernelspec": {
   "display_name": "Python 3 (ipykernel)",
   "language": "python",
   "name": "python3"
  },
  "language_info": {
   "codemirror_mode": {
    "name": "ipython",
    "version": 3
   },
   "file_extension": ".py",
   "mimetype": "text/x-python",
   "name": "python",
   "nbconvert_exporter": "python",
   "pygments_lexer": "ipython3",
   "version": "3.8.13"
  }
 },
 "nbformat": 4,
 "nbformat_minor": 5
}
