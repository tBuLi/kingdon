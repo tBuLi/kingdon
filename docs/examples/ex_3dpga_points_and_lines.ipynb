{
 "cells": [
  {
   "cell_type": "markdown",
   "id": "bab20f19",
   "metadata": {},
   "source": [
    "# 3DPGA: Points and Lines\n",
    "\n",
    "Based on https://enkimute.github.io/ganja.js/examples/coffeeshop.html#pga3d_points_and_lines"
   ]
  },
  {
   "cell_type": "code",
   "execution_count": 1,
   "id": "d1236050",
   "metadata": {},
   "outputs": [],
   "source": [
    "from kingdon import Algebra\n",
    "\n",
    "alg = Algebra(3, 0, 1)\n",
    "locals().update(alg.blades)"
   ]
  },
  {
   "cell_type": "code",
   "execution_count": 2,
   "id": "b0d492ed",
   "metadata": {},
   "outputs": [],
   "source": [
    "def plane(a, b, c, d):\n",
    "    \"\"\"\n",
    "    In 3D PGA, grade-1 elements (vectors) represent\n",
    "    reflections AND planes (the invariant of a reflection).\n",
    "    \"\"\"\n",
    "    return a * e1 + b * e2 + c * e3 + d * e0\n",
    "\n",
    "def point(x, y, z):\n",
    "    \"\"\"\n",
    "    grade-3 elements or trivectors (e012,e013,e023,e123) represent\n",
    "    point/glide/roto reflections AND points (the invariants ..)\n",
    "    We use dualisation for basis and dimension independent definition.\n",
    "    \"\"\"\n",
    "    return (e0 + x * e1 + y * e2 + z * e3).dual();"
   ]
  },
  {
   "cell_type": "markdown",
   "id": "9bbe6362",
   "metadata": {},
   "source": [
    "First, let's define some points:"
   ]
  },
  {
   "cell_type": "code",
   "execution_count": 3,
   "id": "298a2e06",
   "metadata": {},
   "outputs": [],
   "source": [
    "A = point(0, .8, 0)\n",
    "B = point(.8, -1, -.8)\n",
    "C = point(-.8, -1, -.8)\n",
    "D = point(.8, -1, .8)\n",
    "E = point(-.8, -1, .8)"
   ]
  },
  {
   "cell_type": "markdown",
   "id": "41eedf86",
   "metadata": {},
   "source": [
    "Points can be joined into lines and planes:"
   ]
  },
  {
   "cell_type": "code",
   "execution_count": 4,
   "id": "f0466ff1",
   "metadata": {},
   "outputs": [],
   "source": [
    "ec = E & C     # Line joining E & C\n",
    "p = A & B & C  # Plane through A & B & C"
   ]
  },
  {
   "cell_type": "markdown",
   "id": "4b8a62ea",
   "metadata": {},
   "source": [
    "Calculate the average position between some of the points and join them together:"
   ]
  },
  {
   "cell_type": "code",
   "execution_count": 5,
   "id": "f4a6f16d",
   "metadata": {},
   "outputs": [],
   "source": [
    "avg_abe = A + B + E\n",
    "avg_bc = B + C\n",
    "l = avg_abe & avg_bc"
   ]
  },
  {
   "cell_type": "markdown",
   "id": "35513c3c",
   "metadata": {},
   "source": [
    "Intersect a line and a plane into a point:"
   ]
  },
  {
   "cell_type": "code",
   "execution_count": 6,
   "id": "2c8627be",
   "metadata": {},
   "outputs": [],
   "source": [
    "intersect = l ^ (A & E & D)"
   ]
  },
  {
   "cell_type": "markdown",
   "id": "eb583bd5",
   "metadata": {},
   "source": [
    "Finally, we sum two normalized lines to get the average line in between:"
   ]
  },
  {
   "cell_type": "code",
   "execution_count": 7,
   "id": "98389686",
   "metadata": {},
   "outputs": [
    {
     "data": {
      "application/javascript": [
       "\n",
       "        fetch(\"https://enki.ws/ganja.js/ganja.js\")\n",
       "        .then(x=>x.text())\n",
       "        .then(ganja=>{\n",
       "\n",
       "          var f = new Function(\"module\",ganja);\n",
       "          var module = {exports:{}};\n",
       "          f(module);\n",
       "          var Algebra = module.exports;\n",
       "\n",
       "          var canvas = Algebra({metric:[0, 1, 1, 1], Cayley:[[\"1\", \"e0\", \"e1\", \"e2\", \"e3\", \"e01\", \"e02\", \"e03\", \"e12\", \"e13\", \"e23\", \"e012\", \"e013\", \"e023\", \"e123\", \"e0123\"], [\"e0\", \"0\", \"e01\", \"e02\", \"e03\", \"0\", \"0\", \"0\", \"e012\", \"e013\", \"e023\", \"0\", \"0\", \"0\", \"e0123\", \"0\"], [\"e1\", \"-e01\", \"1\", \"e12\", \"e13\", \"-e0\", \"-e012\", \"-e013\", \"e2\", \"e3\", \"e123\", \"-e02\", \"-e03\", \"-e0123\", \"e23\", \"-e023\"], [\"e2\", \"-e02\", \"-e12\", \"1\", \"e23\", \"e012\", \"-e0\", \"-e023\", \"-e1\", \"-e123\", \"e3\", \"e01\", \"e0123\", \"-e03\", \"-e13\", \"e013\"], [\"e3\", \"-e03\", \"-e13\", \"-e23\", \"1\", \"e013\", \"e023\", \"-e0\", \"e123\", \"-e1\", \"-e2\", \"-e0123\", \"e01\", \"e02\", \"e12\", \"-e012\"], [\"e01\", \"0\", \"e0\", \"e012\", \"e013\", \"0\", \"0\", \"0\", \"e02\", \"e03\", \"e0123\", \"0\", \"0\", \"0\", \"e023\", \"0\"], [\"e02\", \"0\", \"-e012\", \"e0\", \"e023\", \"0\", \"0\", \"0\", \"-e01\", \"-e0123\", \"e03\", \"0\", \"0\", \"0\", \"-e013\", \"0\"], [\"e03\", \"0\", \"-e013\", \"-e023\", \"e0\", \"0\", \"0\", \"0\", \"e0123\", \"-e01\", \"-e02\", \"0\", \"0\", \"0\", \"e012\", \"0\"], [\"e12\", \"e012\", \"-e2\", \"e1\", \"e123\", \"-e02\", \"e01\", \"e0123\", \"-1\", \"-e23\", \"e13\", \"-e0\", \"-e023\", \"e013\", \"-e3\", \"-e03\"], [\"e13\", \"e013\", \"-e3\", \"-e123\", \"e1\", \"-e03\", \"-e0123\", \"e01\", \"e23\", \"-1\", \"-e12\", \"e023\", \"-e0\", \"-e012\", \"e2\", \"e02\"], [\"e23\", \"e023\", \"e123\", \"-e3\", \"e2\", \"e0123\", \"-e03\", \"e02\", \"-e13\", \"e12\", \"-1\", \"-e013\", \"e012\", \"-e0\", \"-e1\", \"-e01\"], [\"e012\", \"0\", \"-e02\", \"e01\", \"e0123\", \"0\", \"0\", \"0\", \"-e0\", \"-e023\", \"e013\", \"0\", \"0\", \"0\", \"-e03\", \"0\"], [\"e013\", \"0\", \"-e03\", \"-e0123\", \"e01\", \"0\", \"0\", \"0\", \"e023\", \"-e0\", \"-e012\", \"0\", \"0\", \"0\", \"e02\", \"0\"], [\"e023\", \"0\", \"e0123\", \"-e03\", \"e02\", \"0\", \"0\", \"0\", \"-e013\", \"e012\", \"-e0\", \"0\", \"0\", \"0\", \"-e01\", \"0\"], [\"e123\", \"-e0123\", \"e23\", \"-e13\", \"e12\", \"-e023\", \"e013\", \"-e012\", \"-e3\", \"e2\", \"-e1\", \"e03\", \"-e02\", \"e01\", \"-1\", \"e0\"], [\"e0123\", \"0\", \"e023\", \"-e013\", \"e012\", \"0\", \"0\", \"0\", \"-e03\", \"e02\", \"-e01\", \"0\", \"0\", \"0\", \"-e0\", \"0\"]]},()=>{\n",
       "              var toElement = (x)=>{\n",
       "                if (Array.isArray(x)) {\n",
       "                  if (x.length==16 && x[0].length==undefined) {\n",
       "                    return new Element(x);\n",
       "                  } else {\n",
       "                    return x.map(toElement);\n",
       "                  }\n",
       "                };\n",
       "                return x;\n",
       "              };\n",
       "              var data = [13696993, [[0, 0, 0, 0, 0, 0, 0, 0, 0, 0, 0, 0, 0.8, 0, 1, 0], [0, 0, 0, 0, 0, 0, 0, 0, 0, 0, 0, 0.8, -1, -0.8, 1, 0], [0, 0, 0, 0, 0, 0, 0, 0, 0, 0, 0, -0.8, -1, -0.8, 1, 0]], 43656, [[0, 0, 0, 0, 0, 0, 0, 0, 0, 0, 0, 0, 0.8, 0, 1, 0], [0, 0, 0, 0, 0, 0, 0, 0, 0, 0, 0, 0.8, -1, -0.8, 1, 0]], [[0, 0, 0, 0, 0, 0, 0, 0, 0, 0, 0, 0, 0.8, 0, 1, 0], [0, 0, 0, 0, 0, 0, 0, 0, 0, 0, 0, 0.8, -1, 0.8, 1, 0]], [[0, 0, 0, 0, 0, 0, 0, 0, 0, 0, 0, 0, 0.8, 0, 1, 0], [0, 0, 0, 0, 0, 0, 0, 0, 0, 0, 0, -0.8, -1, -0.8, 1, 0]], [[0, 0, 0, 0, 0, 0, 0, 0, 0, 0, 0, 0, 0.8, 0, 1, 0], [0, 0, 0, 0, 0, 0, 0, 0, 0, 0, 0, -0.8, -1, 0.8, 1, 0]], [[0, 0, 0, 0, 0, 0, 0, 0, 0, 0, 0, 0.8, -1, -0.8, 1, 0], [0, 0, 0, 0, 0, 0, 0, 0, 0, 0, 0, 0.8, -1, 0.8, 1, 0]], [[0, 0, 0, 0, 0, 0, 0, 0, 0, 0, 0, 0.8, -1, 0.8, 1, 0], [0, 0, 0, 0, 0, 0, 0, 0, 0, 0, 0, -0.8, -1, 0.8, 1, 0]], [[0, 0, 0, 0, 0, 0, 0, 0, 0, 0, 0, -0.8, -1, 0.8, 1, 0], [0, 0, 0, 0, 0, 0, 0, 0, 0, 0, 0, -0.8, -1, -0.8, 1, 0]], [[0, 0, 0, 0, 0, 0, 0, 0, 0, 0, 0, -0.8, -1, -0.8, 1, 0], [0, 0, 0, 0, 0, 0, 0, 0, 0, 0, 0, 0.8, -1, -0.8, 1, 0]], 2245768, [0, 0, 0, 0, 0, 0, 0, 0, 0, 0, 0, 0, 0.8, 0, 1, 0], \"A\", [0, 0, 0, 0, 0, 0, 0, 0, 0, 0, 0, 0.8, -1, -0.8, 1, 0], \"B\", [0, 0, 0, 0, 0, 0, 0, 0, 0, 0, 0, 0.8, -1, 0.8, 1, 0], \"C\", [0, 0, 0, 0, 0, 0, 0, 0, 0, 0, 0, -0.8, -1, -0.8, 1, 0], \"D\", [0, 0, 0, 0, 0, 0, 0, 0, 0, 0, 0, -0.8, -1, 0.8, 1, 0], \"E\", 8930440, [0, 0, 0, 0, 0, 1.6, -1.2800000000000002, 0.0, -1.6, 0, 0.0, 0, 0, 0, 0, 0], \"E&C\", [0, -0.10240000000000003, 0.0, 0.12800000000000003, -0.288, 0, 0, 0, 0, 0, 0, 0, 0, 0, 0, 0], \"A&B&C\", 8930440, [0, 0, 0, 0, 0, 0, 0, 0, 0, 0, 0, 1.6, -2, 0.0, 2, 0], \"B+C\", [0, 0, 0, 0, 0, 0, 0, 0, 0, 0, 0, 0.0, -1.2, 0.0, 3, 0], \"A+B+E\", [0, 0, 0, 0, 0, 1.92, 0.0, 0.0, -4.800000000000001, 3.6, 0.0, 0, 0, 0, 0, 0], 43656, [0, 0, 0, 0, 0, 0, 0, 0, 0, 0, 0, 7.3728000000000025, 1.8431999999999986, 0.0, -18.432000000000002, 0], \"line ^ plane\"].map(toElement);\n",
       "              return this.graph(data, {'grid': 1, 'labels': 1, 'h': 0.6, 'p': -0.15, 'lineWidth': 3, 'pointRadius': 1, 'fontsize': 1, 'scale': 1})\n",
       "          })\n",
       "\n",
       "          element.append(canvas)\n",
       "\n",
       "        })\n",
       "        "
      ],
      "text/plain": [
       "<IPython.core.display.Javascript object>"
      ]
     },
     "metadata": {},
     "output_type": "display_data"
    }
   ],
   "source": [
    "alg.graph(\n",
    "    0xD0FFE1, [A,B,D],                                           # polygons\n",
    "    0x00AA88, [A,B],[A,C],[A,D],[A,E],[B,C],[C,E],[E,D],[D,B],   # edges\n",
    "    0x224488, A,\"A\",B,\"B\",C,\"C\",D,\"D\",E,\"E\",                     # points\n",
    "    0x884488, ec,\"E&C\", p*0.1,\"A&B&C\",                           # join of points\n",
    "    0x884488, avg_bc, \"B+C\", avg_abe, \"A+B+E\", l,                # sum of points\n",
    "    0x00AA88, intersect, \"line ^ plane\",                         # meets\n",
    "    grid=1, labels=1, h=0.6, p=-0.15, lineWidth=3, pointRadius=1, fontsize=1, scale=1\n",
    ")"
   ]
  },
  {
   "cell_type": "code",
   "execution_count": null,
   "id": "2a203ae2",
   "metadata": {
    "pycharm": {
     "name": "#%%\n"
    }
   },
   "outputs": [],
   "source": []
  }
 ],
 "metadata": {
  "kernelspec": {
   "display_name": "Python 3 (ipykernel)",
   "language": "python",
   "name": "python3"
  },
  "language_info": {
   "codemirror_mode": {
    "name": "ipython",
    "version": 3
   },
   "file_extension": ".py",
   "mimetype": "text/x-python",
   "name": "python",
   "nbconvert_exporter": "python",
   "pygments_lexer": "ipython3",
   "version": "3.8.13"
  }
 },
 "nbformat": 4,
 "nbformat_minor": 5
}
