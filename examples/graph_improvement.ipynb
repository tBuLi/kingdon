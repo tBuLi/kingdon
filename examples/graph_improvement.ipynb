{
 "cells": [
  {
   "cell_type": "code",
   "execution_count": 1,
   "id": "7a94c222-37a2-4754-be5c-7158fb8f3b4d",
   "metadata": {},
   "outputs": [
    {
     "name": "stdout",
     "output_type": "stream",
     "text": [
      "env: ANYWIDGET_HMR=1\n"
     ]
    }
   ],
   "source": [
    "%env ANYWIDGET_HMR=1\n",
    "%load_ext autoreload\n",
    "%autoreload 2"
   ]
  },
  {
   "cell_type": "code",
   "execution_count": 2,
   "id": "a7555d3a-04a8-4cda-9486-998af52e5daa",
   "metadata": {},
   "outputs": [
    {
     "name": "stderr",
     "output_type": "stream",
     "text": [
      "/Users/tbuli/anaconda3/envs/kingdon/lib/python3.10/site-packages/anywidget/_util.py:267: UserWarning: anywidget: Live-reloading feature is disabled. To enable, please install the 'watchfiles' package.\n",
      "  start_thread=_should_start_thread(path),\n"
     ]
    }
   ],
   "source": [
    "import numpy as np\n",
    "from kingdon import Algebra\n",
    "\n",
    "alg = Algebra(2, 0, 1)"
   ]
  },
  {
   "cell_type": "code",
   "execution_count": 3,
   "id": "7da498ba-df9f-462c-8a3e-b529226fd9a3",
   "metadata": {},
   "outputs": [],
   "source": [
    "vals = np.ones((3, 10))\n",
    "vals[1:] = np.random.uniform(-0.5, 0.5, (2, 10))\n",
    "points = alg.vector(vals).dual()\n",
    "# points = alg.bivector(vals)"
   ]
  },
  {
   "cell_type": "code",
   "execution_count": 4,
   "id": "4a5bc0e2-343e-48d8-9c7e-a6940c21d988",
   "metadata": {},
   "outputs": [
    {
     "data": {
      "text/plain": [
       "array([[ 1.        ,  1.        ,  1.        ,  1.        ,  1.        ,\n",
       "         1.        ,  1.        ,  1.        ,  1.        ,  1.        ],\n",
       "       [-0.4824899 , -0.44177784, -0.29256482, -0.2838008 ,  0.19033926,\n",
       "        -0.02322863, -0.47591434, -0.08692812, -0.10446568,  0.49153671],\n",
       "       [-0.4608791 , -0.18378979,  0.0280174 ,  0.08000034, -0.10036395,\n",
       "        -0.41183231,  0.05066304, -0.01506227,  0.03362851,  0.0283907 ]])"
      ]
     },
     "execution_count": 4,
     "metadata": {},
     "output_type": "execute_result"
    }
   ],
   "source": [
    "vals"
   ]
  },
  {
   "cell_type": "code",
   "execution_count": 5,
   "id": "27a1bbf8-64a4-4f6b-8ca8-adc69f5fa88a",
   "metadata": {},
   "outputs": [
    {
     "data": {
      "application/vnd.jupyter.widget-view+json": {
       "model_id": "95cfc60881794f0e81c2a67e4acc8872",
       "version_major": 2,
       "version_minor": 1
      },
      "text/plain": [
       "GraphWidget(cayley=[['1', 'e0', 'e1', 'e2', 'e01', 'e02', 'e12', 'e012'], ['e0', '0', 'e01', 'e02', '0', '0', …"
      ]
     },
     "execution_count": 5,
     "metadata": {},
     "output_type": "execute_result"
    }
   ],
   "source": [
    "g = alg.graph(\n",
    "    alg.blades.e0.dual(), \n",
    "    points,\n",
    "    pointSize=4,\n",
    ")\n",
    "g"
   ]
  },
  {
   "cell_type": "code",
   "execution_count": 6,
   "id": "05d0a8ea-e34a-4bb2-a447-655bdd57a70e",
   "metadata": {},
   "outputs": [
    {
     "data": {
      "text/plain": [
       "[[{'mv': [1], 'keys': (6,)},\n",
       "  {'mv': [b\"$S\\xd9\\x08\\x0b\\x7f\\xdd\\xbf\\\\\\xea|yl\\x86\\xc7\\xbf \\xb6D8\\x98\\xb0\\x9c?\\xf8\\xc4\\xb7\\xef\\xe6z\\xb4?\\xa0 \\x97\\xbbs\\xb1\\xb9\\xbf\\xc4%\\x9b\\xebu[\\xda\\xbf\\xb0\\xa3{f\\x81\\xf0\\xa9?\\x80$\\x90'\\xf8\\xd8\\x8e\\xbf\\xb0\\xc5\\xba{\\xc17\\xa1? &\\xdf\\xc2s\\x12\\x9d?\",\n",
       "    b\"\\x12f^P\\x1d\\xe1\\xde?\\x9e\\xa78\\x8f\\x16F\\xdc?\\xf8\\xa2\\x98\\xcca\\xb9\\xd2?\\xb6\\xcd\\xaa\\xd5\\xca)\\xd2?H\\xea'h\\t]\\xc8\\xbf\\xa0\\xf4\\xa7\\xe1>\\xc9\\x97?\\x94u\\x7fnau\\xde?p4p\\xe9\\xeb@\\xb6?pl.<C\\xbe\\xba?&\\x05X_Vu\\xdf\\xbf\",\n",
       "    b'\\x00\\x00\\x00\\x00\\x00\\x00\\xf0?\\x00\\x00\\x00\\x00\\x00\\x00\\xf0?\\x00\\x00\\x00\\x00\\x00\\x00\\xf0?\\x00\\x00\\x00\\x00\\x00\\x00\\xf0?\\x00\\x00\\x00\\x00\\x00\\x00\\xf0?\\x00\\x00\\x00\\x00\\x00\\x00\\xf0?\\x00\\x00\\x00\\x00\\x00\\x00\\xf0?\\x00\\x00\\x00\\x00\\x00\\x00\\xf0?\\x00\\x00\\x00\\x00\\x00\\x00\\xf0?\\x00\\x00\\x00\\x00\\x00\\x00\\xf0?'],\n",
       "   'shape': (3, 10),\n",
       "   'keys': (3, 5, 6)}]]"
      ]
     },
     "execution_count": 6,
     "metadata": {},
     "output_type": "execute_result"
    }
   ],
   "source": [
    "g.draggable_points"
   ]
  },
  {
   "cell_type": "code",
   "execution_count": null,
   "id": "29dec51d-9833-463f-a46f-a21da4f31b91",
   "metadata": {},
   "outputs": [],
   "source": []
  }
 ],
 "metadata": {
  "kernelspec": {
   "display_name": "Python 3 (ipykernel)",
   "language": "python",
   "name": "python3"
  },
  "language_info": {
   "codemirror_mode": {
    "name": "ipython",
    "version": 3
   },
   "file_extension": ".py",
   "mimetype": "text/x-python",
   "name": "python",
   "nbconvert_exporter": "python",
   "pygments_lexer": "ipython3",
   "version": "3.10.14"
  }
 },
 "nbformat": 4,
 "nbformat_minor": 5
}
